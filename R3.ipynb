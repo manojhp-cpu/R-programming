{
 "cells": [
  {
   "cell_type": "markdown",
   "id": "ef4280c2",
   "metadata": {},
   "source": [
    "# 2) Write a R program that include variables, constants, data types.\n"
   ]
  },
  {
   "cell_type": "markdown",
   "id": "05727218",
   "metadata": {},
   "source": [
    "```python\n",
    "# Function that performs some operations and returns a complex object\n",
    "complex_function <- function(a, b = 5) {\n",
    "  # Arithmetic operators\n",
    "  sum_result <- a + b\n",
    "  diff_result <- a - b\n",
    "  product_result <- a * b\n",
    "  division_result <- a / b\n",
    "  \n",
    "  # Control structure (if-else)\n",
    "  if (a > b) {\n",
    "    comparison_result <- \"a is greater than b\"\n",
    "  } else if (a < b) {\n",
    "    comparison_result <- \"a is less than b\"\n",
    "  } else {\n",
    "    comparison_result <- \"a is equal to b\"\n",
    "  }\n",
    "  \n",
    "  # Create a complex object (a list) to store results\n",
    "  complex_object <- list(\n",
    "    sum = sum_result,\n",
    "    difference = diff_result,\n",
    "    product = product_result,\n",
    "    division = division_result,\n",
    "    comparison = comparison_result\n",
    "  )\n",
    "  \n",
    "  return(complex_object)\n",
    "}\n",
    "\n",
    "# Call the function with different arguments\n",
    "result1 <- complex_function(10, 5)\n",
    "result2 <- complex_function(3)\n",
    "\n",
    "# Print the results\n",
    "cat(\"Result 1:\\n\")\n",
    "print(result1)\n",
    "\n",
    "cat(\"\\nResult 2:\\n\")\n",
    "print(result2)\n",
    "\n",
    "```\n"
   ]
  },
  {
   "cell_type": "markdown",
   "id": "acc9b811",
   "metadata": {},
   "source": [
    "# output"
   ]
  },
  {
   "cell_type": "markdown",
   "id": "f97a92d2",
   "metadata": {},
   "source": [
    "```python\n",
    "output:\n",
    "Result 1:\n",
    "$sum\n",
    "[1] 15\n",
    "\n",
    "$difference\n",
    "[1] 5\n",
    "\n",
    "$product\n",
    "[1] 50\n",
    "\n",
    "$division\n",
    "[1] 2\n",
    "\n",
    "$comparison\n",
    "[1] \"a is greater than b\"\n",
    "\n",
    "\n",
    "Result 2:\n",
    "\n",
    "$sum\n",
    "[1] 8\n",
    "\n",
    "$difference\n",
    "[1] -2\n",
    "\n",
    "$product\n",
    "[1] 15\n",
    "\n",
    "$division\n",
    "[1] 0.6\n",
    "\n",
    "$comparison\n",
    "[1] \"a is less than b\"\n",
    "```\n"
   ]
  }
 ],
 "metadata": {
  "kernelspec": {
   "display_name": "Python 3 (ipykernel)",
   "language": "python",
   "name": "python3"
  },
  "language_info": {
   "codemirror_mode": {
    "name": "ipython",
    "version": 3
   },
   "file_extension": ".py",
   "mimetype": "text/x-python",
   "name": "python",
   "nbconvert_exporter": "python",
   "pygments_lexer": "ipython3",
   "version": "3.11.4"
  }
 },
 "nbformat": 4,
 "nbformat_minor": 5
}
