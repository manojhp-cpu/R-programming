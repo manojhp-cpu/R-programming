{
 "cells": [
  {
   "cell_type": "markdown",
   "id": "aa68076e",
   "metadata": {},
   "source": [
    "# 2) Write a R program that include variables, constants, data types."
   ]
  },
  {
   "cell_type": "markdown",
   "id": "d90c1ef7",
   "metadata": {},
   "source": [
    "```python\n",
    "PI <- 3.14159265359\n",
    "GREETING <- \"Hello, World!\"\n",
    "paste(\"Constant Value:\",PI)\n",
    "paste(\"Constant Value:\",GREETING)\n",
    "\n",
    "# Define variables\n",
    "radius <- 5\n",
    "name <- \"Alice\"\n",
    "age <- 30L\n",
    "is_student <- TRUE\n",
    "\n",
    "print(class(radius))\n",
    "print(class(name))\n",
    "print(class(age))\n",
    "print(class(is_student))\n",
    "```"
   ]
  },
  {
   "cell_type": "markdown",
   "id": "2d0f8d06",
   "metadata": {},
   "source": [
    "**Output**"
   ]
  },
  {
   "cell_type": "markdown",
   "id": "a26d896a",
   "metadata": {},
   "source": [
    "```python\n",
    "[1] \"Constant Value: 3.14159265359\"\n",
    "[1] \"Constant Value: Hello, World!\"\n",
    "\n",
    "[1] \"numeric\"\n",
    "[1] \"character\"\n",
    "[1] \"integer\"\n",
    "[1] \"logical\"\n",
    "```"
   ]
  }
 ],
 "metadata": {
  "kernelspec": {
   "display_name": "Python 3 (ipykernel)",
   "language": "python",
   "name": "python3"
  },
  "language_info": {
   "codemirror_mode": {
    "name": "ipython",
    "version": 3
   },
   "file_extension": ".py",
   "mimetype": "text/x-python",
   "name": "python",
   "nbconvert_exporter": "python",
   "pygments_lexer": "ipython3",
   "version": "3.11.4"
  }
 },
 "nbformat": 4,
 "nbformat_minor": 5
}
