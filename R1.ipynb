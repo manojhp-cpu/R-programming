{
 "cells": [
  {
   "cell_type": "markdown",
   "id": "fbac8113",
   "metadata": {},
   "source": [
    "# 1)Write a R program for different types of data structures in R."
   ]
  },
  {
   "cell_type": "markdown",
   "id": "6c6e33b3",
   "metadata": {},
   "source": [
    "# Vector\n",
    "\n",
    "```python\n",
    "# Creating a numeric vector\n",
    "numeric_vector <- c(1, 2, 3, 4, 5)\n",
    "numeric_vector\n",
    "\n",
    "# Creating a character vector\n",
    "character_vector <- c(\"apple\", \"banana\", \"cherry\")\n",
    "character_vector\n",
    "\n",
    "# Creating a logical vector\n",
    "logical_vector <- c(TRUE, FALSE, TRUE)\n",
    "logical_vector\n",
    "\n",
    "output:\n",
    "[1] 1 2 3 4 5\n",
    "[1] \"apple\"  \"banana\" \"cherry\"\n",
    "[1]  TRUE FALSE  TRUE\n",
    "```"
   ]
  },
  {
   "cell_type": "markdown",
   "id": "d0588e69",
   "metadata": {},
   "source": [
    "# Matrices:"
   ]
  },
  {
   "cell_type": "markdown",
   "id": "82c9433e",
   "metadata": {},
   "source": [
    "```python\n",
    "# Creating a numeric matrix\n",
    "numeric_matrix <- matrix(1:6, nrow = 2, ncol = 3)\n",
    "numeric_matrix\n",
    "\n",
    "# Creating a character matrix\n",
    "character_matrix <- matrix(c(\"A\", \"B\", \"C\", \"D\", \"E\", \"F\"), nrow = 2, ncol = 3)\n",
    "character_matrix\n",
    "\n",
    "output:\n",
    "[,1] [,2] [,3]\n",
    "[1,]    1    3    5\n",
    "[2,]    2    4    6\n",
    "\n",
    "     [,1] [,2] [,3]\n",
    "[1,] \"A\"  \"C\"  \"E\" \n",
    "[2,] \"B\"  \"D\"  \"F\" \n",
    "```"
   ]
  },
  {
   "cell_type": "markdown",
   "id": "6678c55a",
   "metadata": {},
   "source": [
    "# Lists"
   ]
  },
  {
   "cell_type": "markdown",
   "id": "d983f428",
   "metadata": {},
   "source": [
    "```python\n",
    "# Creating a list\n",
    "my_list <- list(name = c(\"John\",\"Daniel\",\"Jack\"), age = c(30,53,40) ,hobbies = c(\"reading\", \"golf\",\"Gaming\"))\n",
    "\n",
    "# Accessing elements in a list\n",
    "print(my_list)  \n",
    "\n",
    "output\n",
    "\n",
    "$name\n",
    "[1] \"John\"   \"Daniel\" \"Jack\"  \n",
    "\n",
    "$age\n",
    "[1] 30 53 40\n",
    "\n",
    "$hobbies\n",
    "[1] \"reading\" \"golf\"    \"Gaming\" \n",
    "```"
   ]
  },
  {
   "cell_type": "markdown",
   "id": "fc6e0cc3",
   "metadata": {},
   "source": [
    "# DataFrame:"
   ]
  },
  {
   "cell_type": "markdown",
   "id": "90f89b38",
   "metadata": {},
   "source": [
    "```python\n",
    "# Creating a data frame\n",
    "data_frame <- data.frame(\n",
    "  Name = c(\"Alice\", \"Bob\", \"Charlie\"),\n",
    "  Age = c(25, 30, 22),\n",
    "  Gender = c(\"Female\", \"Male\", \"Male\")\n",
    ")\n",
    "\n",
    "# Accessing elements in a data frame\n",
    "print(data_frame$Name)  # Accessing the 'Name' column\n",
    "print(data_frame$Age)  # Accessing the 'Name' column\n",
    "print(data_frame$Gender)  # Accessing the 'Name' column\n",
    "\n",
    "output:\n",
    "[1] \"Alice\"   \"Bob\"     \"Charlie\"\n",
    "[1] 25 30 22\n",
    "[1] \"Female\" \"Male\"   \"Male\"  \n",
    "```"
   ]
  },
  {
   "cell_type": "markdown",
   "id": "bca76139",
   "metadata": {},
   "source": [
    "# Factors:"
   ]
  },
  {
   "cell_type": "markdown",
   "id": "da5031f1",
   "metadata": {},
   "source": [
    "```python\n",
    "# Creating a factor\n",
    "gender <- c(\"Male\", \"Female\", \"Male\", \"Female\", \"Male\")\n",
    "factor_gender <- factor(gender, levels = c(\"Male\", \"Female\"))\n",
    "\n",
    "# Checking levels of a factor\n",
    "print(factor_gender)\n",
    "\n",
    "output:\n",
    "[1] Male   Female Male   Female Male  \n",
    "Levels: Male Female\n",
    "```"
   ]
  },
  {
   "cell_type": "markdown",
   "id": "71230032",
   "metadata": {},
   "source": [
    "# Array:"
   ]
  },
  {
   "cell_type": "markdown",
   "id": "f6d5752a",
   "metadata": {},
   "source": [
    "```python\n",
    "#Creating  an Array\n",
    "arr <- array(1:24,dim = c(4,3,2))\n",
    "arr\n",
    "\n",
    "output:\n",
    ", , 1\n",
    "\n",
    "     [,1] [,2] [,3]\n",
    "[1,]    1    5    9\n",
    "[2,]    2    6   10\n",
    "[3,]    3    7   11\n",
    "[4,]    4    8   12\n",
    "\n",
    ", , 2\n",
    "\n",
    "     [,1] [,2] [,3]\n",
    "[1,]   13   17   21\n",
    "[2,]   14   18   22\n",
    "[3,]   15   19   23\n",
    "[4,]   16   20   24\n",
    "```"
   ]
  }
 ],
 "metadata": {
  "kernelspec": {
   "display_name": "Python 3 (ipykernel)",
   "language": "python",
   "name": "python3"
  },
  "language_info": {
   "codemirror_mode": {
    "name": "ipython",
    "version": 3
   },
   "file_extension": ".py",
   "mimetype": "text/x-python",
   "name": "python",
   "nbconvert_exporter": "python",
   "pygments_lexer": "ipython3",
   "version": "3.11.4"
  }
 },
 "nbformat": 4,
 "nbformat_minor": 5
}
